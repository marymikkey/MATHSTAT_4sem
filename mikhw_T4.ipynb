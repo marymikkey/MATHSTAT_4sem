{
 "cells": [
  {
   "cell_type": "markdown",
   "metadata": {
    "id": "LiDqX8_HaS8_"
   },
   "source": [
    "## Микишева Мария Б03-212 Задание Т4"
   ]
  },
  {
   "cell_type": "code",
   "execution_count": 16,
   "metadata": {
    "id": "yr6m8Hp8aS9B"
   },
   "outputs": [],
   "source": [
    "import matplotlib.pyplot as plt\n",
    "import random as rd\n",
    "import numpy as np\n",
    "import scipy as sp"
   ]
  },
  {
   "cell_type": "code",
   "execution_count": 50,
   "metadata": {
    "id": "Lt6wVncwaS9C"
   },
   "outputs": [],
   "source": [
    "N = 100\n",
    "THETA = 10\n",
    "BETA = 0.95"
   ]
  },
  {
   "cell_type": "markdown",
   "metadata": {
    "id": "j8Q3EZILaS9C"
   },
   "source": [
    "# Генерация выборки"
   ]
  },
  {
   "cell_type": "code",
   "execution_count": 51,
   "metadata": {
    "id": "tq13wkNkaS9C"
   },
   "outputs": [],
   "source": [
    "def generate_uniform_sample(a, b, size):\n",
    "\n",
    "    sample = [rd.uniform(a, b) for i in range(size)]\n",
    "\n",
    "    return np.array(sample)"
   ]
  },
  {
   "cell_type": "code",
   "execution_count": 52,
   "metadata": {
    "colab": {
     "base_uri": "https://localhost:8080/"
    },
    "id": "lcss1mvoaS9C",
    "outputId": "339c6f6e-e621-47b0-9be7-db51f2791510"
   },
   "outputs": [
    {
     "name": "stdout",
     "output_type": "stream",
     "text": [
      "sample = [12.99088113 11.67073921 12.72296568 16.33292895 11.11903398 18.23998265\n",
      " 15.78736131 16.88422203 11.00810908 10.22755815 13.19844461 16.31107792\n",
      " 18.63676997 13.96232535 10.45499685 16.43253825 16.03820819 16.90613838\n",
      " 13.01286761 17.43002565 17.10723914 12.20942401 10.53652088 18.21205924\n",
      " 11.11438809 19.12841018 17.12571784 11.87893775 10.36473683 15.20650726\n",
      " 11.06753731 19.7741929  14.22290638 13.65847001 15.94926723 13.55819926\n",
      " 11.33105448 19.23389413 19.82383951 12.60429259 17.33839265 12.08961338\n",
      " 10.38994401 17.99974366 14.1431039  10.04899575 18.28132844 18.96879189\n",
      " 10.96906254 11.98479925 16.36823952 15.99635778 16.12123529 18.08673634\n",
      " 18.42354013 17.36279649 14.37490248 19.36036189 18.81562431 12.476969\n",
      " 14.44068114 10.56668281 12.46634093 18.3692586  15.46553413 18.47456122\n",
      " 11.80823226 18.48764365 13.67405631 12.07431088 19.12796617 11.19550653\n",
      " 15.36500432 17.38696952 17.97743124 12.14450609 11.35180214 18.94010732\n",
      " 11.61220376 12.97549841 19.72002994 19.21677158 17.48222795 16.91340531\n",
      " 15.09489466 17.20043367 14.21995087 10.11201833 19.33055608 11.88571391\n",
      " 17.73212265 15.47256366 17.82944983 10.69925414 14.82961446 17.88789153\n",
      " 10.23024517 16.65967008 19.21711064 12.80747899]\n"
     ]
    }
   ],
   "source": [
    "sample = generate_uniform_sample(THETA, 2 * THETA, N)\n",
    "print('sample =', sample)"
   ]
  },
  {
   "cell_type": "markdown",
   "metadata": {
    "id": "CJQHoG3uaS9D"
   },
   "source": [
    "## Точный доверительный интервал"
   ]
  },
  {
   "cell_type": "code",
   "execution_count": 53,
   "metadata": {
    "id": "YLJUHQ1VaS9D"
   },
   "outputs": [],
   "source": [
    "def exact_confidence_interval(sample, beta):\n",
    "    x_max = np.max(sample)\n",
    "    t1 = x_max / (((1+beta)/2) ** (1/np.size(sample)) + 1)\n",
    "    t2 = x_max / (((1-beta)/2) ** (1/np.size(sample)) + 1)\n",
    "    return t1, t2\n",
    "\n",
    "t1, t2 = exact_confidence_interval(sample, BETA)"
   ]
  },
  {
   "cell_type": "code",
   "execution_count": 54,
   "metadata": {
    "colab": {
     "base_uri": "https://localhost:8080/"
    },
    "id": "D-Fkf9PwaS9E",
    "outputId": "f7c08ecb-6b5b-4bb7-bc18-37936598560b"
   },
   "outputs": [
    {
     "name": "stdout",
     "output_type": "stream",
     "text": [
      "Точный доверительный интервал: 9.913 < theta < 10.095\n",
      "Длина точного доверительного интервала: 0.18154391661019353\n"
     ]
    }
   ],
   "source": [
    "print(f'Точный доверительный интервал: {round(t1, 3)} < theta < {round(t2, 3)}')\n",
    "print(f'Длина точного доверительного интервала: {t2-t1}')"
   ]
  },
  {
   "cell_type": "markdown",
   "metadata": {
    "id": "DVserujhaS9E"
   },
   "source": [
    "## Асимптотический доверительный интервал (ОММ)"
   ]
  },
  {
   "cell_type": "code",
   "execution_count": 55,
   "metadata": {
    "colab": {
     "base_uri": "https://localhost:8080/"
    },
    "id": "70WxG6AtaS9E",
    "outputId": "502117bc-8be0-4fb5-f52f-22be358a007c"
   },
   "outputs": [
    {
     "name": "stdout",
     "output_type": "stream",
     "text": [
      "u1, u2: -1.959963984540054 1.959963984540054\n"
     ]
    }
   ],
   "source": [
    "def quantiles(beta):\n",
    "    u1 = 2**0.5 * sp.special.erfinv(-beta)\n",
    "    u2 = -u1\n",
    "    print(\"u1, u2:\", u1,u2)\n",
    "    return u1, u2\n",
    "\n",
    "def asymptotic_confidence_interval(sample, beta):\n",
    "    n = np.size(sample)\n",
    "    mean = np.mean(sample)\n",
    "    square_mean = np.mean(sample * sample)\n",
    "\n",
    "    u1, u2 = quantiles(beta)\n",
    "    t1 = 3/2 * u1 * ((square_mean-mean**2)/n)**0.5 + 2/3*mean\n",
    "    t2 = 3/2 * u2 * ((square_mean-mean**2)/n)**0.5 + 2/3*mean\n",
    "    return t1, t2\n",
    "\n",
    "\n",
    "t1, t2 = asymptotic_confidence_interval(sample, BETA)"
   ]
  },
  {
   "cell_type": "code",
   "execution_count": 56,
   "metadata": {
    "colab": {
     "base_uri": "https://localhost:8080/"
    },
    "id": "amUWKhKdaS9E",
    "outputId": "33b34381-87e8-406b-ceb9-0573af0f6a66"
   },
   "outputs": [
    {
     "name": "stdout",
     "output_type": "stream",
     "text": [
      "Асимптотический довертельный интервал: 9.112 < theta < 10.909\n",
      "Длина асимптотического доверительного интервала: 1.7968470256031743\n"
     ]
    }
   ],
   "source": [
    "print(f'Асимптотический довертельный интервал: {round(t1, 3)} < theta < {round(t2, 3)}')\n",
    "print(f'Длина асимптотического доверительного интервала: {t2-t1}')"
   ]
  },
  {
   "cell_type": "markdown",
   "metadata": {
    "id": "e6kAh_tkaS9E"
   },
   "source": [
    "## Бутстраповский непараметрический доверительный интервал"
   ]
  },
  {
   "cell_type": "code",
   "execution_count": 60,
   "metadata": {
    "id": "xFh2g2FOaS9F"
   },
   "outputs": [],
   "source": [
    "def bootstrap_confidence_interval(sample, beta):\n",
    "    theta = 2/3*np.mean(sample)\n",
    "    deltas = []\n",
    "    for i in range(1000):\n",
    "        sample_i = np.random.choice(sample, size=np.size(sample))\n",
    "        deltas.append(2/3*np.mean(sample_i) - theta)\n",
    "    deltas = np.sort(deltas)\n",
    "    k1 = int((1+beta)/2 * 1000)\n",
    "    k2 = int((1-beta)/2 * 1000)\n",
    "    t1 = theta - deltas[k1]\n",
    "    t2 = theta - deltas[k2]\n",
    "    return t1, t2\n",
    "\n",
    "t1, t2 = bootstrap_confidence_interval(sample, BETA)"
   ]
  },
  {
   "cell_type": "code",
   "execution_count": 61,
   "metadata": {
    "colab": {
     "base_uri": "https://localhost:8080/"
    },
    "id": "UwGPLhaGaS9F",
    "outputId": "73835744-0a81-4df6-f3c0-795d421df25d"
   },
   "outputs": [
    {
     "name": "stdout",
     "output_type": "stream",
     "text": [
      "Бутстраповский доверительный интервал 9.599 < theta < 10.403\n",
      "Длина бутстраповского доверительного интервала: 0.8039949117598599\n"
     ]
    }
   ],
   "source": [
    "print(f'Бутстраповский доверительный интервал {round(t1, 3)} < theta < {round(t2, 3)}')\n",
    "print(f'Длина бутстраповского доверительного интервала: {t2-t1}')"
   ]
  },
  {
   "cell_type": "markdown",
   "metadata": {
    "id": "DlOVuk4daS9F"
   },
   "source": [
    "## Бутстраповский параметрический доверительный интервал"
   ]
  },
  {
   "cell_type": "code",
   "execution_count": 62,
   "metadata": {
    "id": "cJEu8bhlaS9F"
   },
   "outputs": [],
   "source": [
    "def bootstrap_param_confidence_interval(sample, beta):\n",
    "    theta = 2/3*np.mean(sample)\n",
    "    thetas = []\n",
    "    for i in range(1000):\n",
    "        sample_i = np.random.choice(sample, size=np.size(sample))\n",
    "        thetas.append(2/3*np.mean(sample_i))\n",
    "    k1 = int((1-beta)/2 * 1000)\n",
    "    k2 = int((1+beta)/2 * 1000)\n",
    "    thetas = np.sort(thetas)\n",
    "    t1 = thetas[k1]\n",
    "    t2 = thetas[k2]\n",
    "    return t1, t2\n",
    "\n",
    "t1, t2 = bootstrap_param_confidence_interval(sample, BETA)"
   ]
  },
  {
   "cell_type": "code",
   "execution_count": 63,
   "metadata": {
    "colab": {
     "base_uri": "https://localhost:8080/"
    },
    "id": "2wfJ6suSaS9F",
    "outputId": "f3a0cb7f-e6a2-483b-9d50-2420c53cb6ad"
   },
   "outputs": [
    {
     "name": "stdout",
     "output_type": "stream",
     "text": [
      "Бутстраповский параметрический доверительный интервал 9.606 < theta < 10.417\n",
      "Длина бутстраповского параметрического доверительного интервала: 0.8111438514494242\n"
     ]
    }
   ],
   "source": [
    "print(f'Бутстраповский параметрический доверительный интервал {round(t1, 3)} < theta < {round(t2, 3)}')\n",
    "print(f'Длина бутстраповского параметрического доверительного интервала: {t2-t1}')"
   ]
  },
  {
   "cell_type": "markdown",
   "metadata": {
    "id": "7l-AF4xdaS9F"
   },
   "source": [
    "## Сранение"
   ]
  },
  {
   "cell_type": "code",
   "execution_count": 64,
   "metadata": {
    "colab": {
     "base_uri": "https://localhost:8080/",
     "height": 470
    },
    "id": "BijJaPIWaS9F",
    "outputId": "d90defaa-869e-4a5d-8f0e-d23e89c72aca"
   },
   "outputs": [
    {
     "name": "stdout",
     "output_type": "stream",
     "text": [
      "u1, u2: -1.959963984540054 1.959963984540054\n"
     ]
    },
    {
     "data": {
      "image/png": "[encoded data removed]",
      "text/plain": [
       "<Figure size 640x480 with 1 Axes>"
      ]
     },
     "metadata": {},
     "output_type": "display_data"
    }
   ],
   "source": [
    "import matplotlib.pyplot as plt\n",
    "\n",
    "def plot_confidence_interval(num, sample, beta, eval_func, color='#2187bb', vertical_line_width=0.25):\n",
    "    t1, t2 = eval_func(sample, beta)\n",
    "    plt.plot([t1, t2], [num, num], color=color)\n",
    "    plt.plot([t1, t1], [num-vertical_line_width/2, num+vertical_line_width/2], color=color)\n",
    "    plt.plot([t2, t2], [num-vertical_line_width/2, num+vertical_line_width/2], color=color)\n",
    "    return\n",
    "\n",
    "plt.yticks([1, 2, 3, 4], ['Точный', 'Асимптотический', 'Бутстраповский непараметрический', 'Бутстраповский параметрический'])\n",
    "plt.title('Confidence Interval')\n",
    "plt.plot([THETA, THETA], [0.5, 4.5], color='red')\n",
    "plot_confidence_interval(1, sample, BETA, exact_confidence_interval)\n",
    "plot_confidence_interval(2, sample, BETA, asymptotic_confidence_interval)\n",
    "plot_confidence_interval(3, sample, BETA, bootstrap_confidence_interval)\n",
    "plot_confidence_interval(4, sample, BETA, bootstrap_param_confidence_interval)\n",
    "plt.grid()\n",
    "plt.show()"
   ]
  },
  {
   "cell_type": "code",
   "execution_count": 28,
   "metadata": {
    "id": "5AwPdyuvaS9G"
   },
   "outputs": [],
   "source": []
  }
 ],
 "metadata": {
  "colab": {
   "provenance": []
  },
  "kernelspec": {
   "display_name": "Python 3 (ipykernel)",
   "language": "python",
   "name": "python3"
  },
  "language_info": {
   "codemirror_mode": {
    "name": "ipython",
    "version": 3
   },
   "file_extension": ".py",
   "mimetype": "text/x-python",
   "name": "python",
   "nbconvert_exporter": "python",
   "pygments_lexer": "ipython3",
   "version": "3.10.12"
  }
 },
 "nbformat": 4,
 "nbformat_minor": 1
}
