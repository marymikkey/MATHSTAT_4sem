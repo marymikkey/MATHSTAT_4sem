{
 "cells": [
  {
   "cell_type": "markdown",
   "id": "e0829475",
   "metadata": {},
   "source": [
    "## Микишева Мария Б03-212 Задание Т6-Т8"
   ]
  },
  {
   "cell_type": "code",
   "execution_count": 2,
   "id": "5576233e",
   "metadata": {},
   "outputs": [],
   "source": [
    "import numpy as np\n",
    "from scipy.stats import chi2, norm"
   ]
  },
  {
   "cell_type": "markdown",
   "id": "79d1513f",
   "metadata": {},
   "source": [
    "### Численный расчет p-value в задачах Т6-Т8"
   ]
  },
  {
   "cell_type": "markdown",
   "id": "f93ceb16",
   "metadata": {},
   "source": [
    "## T6"
   ]
  },
  {
   "cell_type": "code",
   "execution_count": 29,
   "id": "de49b5df",
   "metadata": {},
   "outputs": [
    {
     "name": "stdout",
     "output_type": "stream",
     "text": [
      "p-value(delta >= 131.0 | H_0) = 2e-30 ≈ 0.0\n"
     ]
    }
   ],
   "source": [
    "delta_est = 131.2\n",
    "k = 1\n",
    "print(f'p-value(delta >= {np.round(delta_est)} | H_0) = {np.round(chi2(k).sf(delta_est), 30)} ≈ {np.round(chi2(k).sf(delta_est), 3)}')"
   ]
  },
  {
   "cell_type": "markdown",
   "id": "3eaf4312",
   "metadata": {},
   "source": [
    "p-value = 0 < α = 0.05 => Уверенно отвергаем гипотезу"
   ]
  },
  {
   "cell_type": "markdown",
   "id": "fb520607",
   "metadata": {},
   "source": [
    "## T7"
   ]
  },
  {
   "cell_type": "code",
   "execution_count": 30,
   "id": "9bedf2d1",
   "metadata": {},
   "outputs": [
    {
     "name": "stdout",
     "output_type": "stream",
     "text": [
      "p-value(delta >= 20.0 | H_0) = 3.6e-05 ≈ 0.0\n"
     ]
    }
   ],
   "source": [
    "delta_est = 20.479\n",
    "k = 2\n",
    "print(f'p-value(delta >= {np.round(delta_est)} | H_0) = {np.round(chi2(k).sf(delta_est), 6)} ≈ {np.round(chi2(k).sf(delta_est), 3)}')"
   ]
  },
  {
   "cell_type": "markdown",
   "id": "6d7c99c9",
   "metadata": {},
   "source": [
    "p-value = 0 < α = 0.05 => Уверенно отвергаем гипотезу"
   ]
  },
  {
   "cell_type": "markdown",
   "id": "5491279c",
   "metadata": {},
   "source": [
    "## T8"
   ]
  },
  {
   "cell_type": "code",
   "execution_count": 31,
   "id": "0dc3fd65",
   "metadata": {},
   "outputs": [
    {
     "name": "stdout",
     "output_type": "stream",
     "text": [
      "p-value(delta >= 2.0 | H_0) = 0.556\n"
     ]
    }
   ],
   "source": [
    "delta_est = 2.08\n",
    "k = 3\n",
    "print(f'p-value(delta >= {np.round(delta_est)} | H_0) = {np.round(chi2(k).sf(delta_est), 3)}')"
   ]
  },
  {
   "cell_type": "markdown",
   "id": "5d486ff7",
   "metadata": {},
   "source": [
    "p-value = 0 > α = 0.05 => Нет оснований отвергнуть гипотезу"
   ]
  },
  {
   "cell_type": "code",
   "execution_count": null,
   "id": "6ec37fd7",
   "metadata": {},
   "outputs": [],
   "source": []
  }
 ],
 "metadata": {
  "kernelspec": {
   "display_name": "Python 3 (ipykernel)",
   "language": "python",
   "name": "python3"
  },
  "language_info": {
   "codemirror_mode": {
    "name": "ipython",
    "version": 3
   },
   "file_extension": ".py",
   "mimetype": "text/x-python",
   "name": "python",
   "nbconvert_exporter": "python",
   "pygments_lexer": "ipython3",
   "version": "3.10.12"
  }
 },
 "nbformat": 4,
 "nbformat_minor": 5
}
