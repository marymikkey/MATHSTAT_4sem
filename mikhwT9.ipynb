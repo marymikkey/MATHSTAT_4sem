{
 "cells": [
  {
   "cell_type": "markdown",
   "id": "38c53dce",
   "metadata": {},
   "source": [
    "## Микишева Мария Б03-212 Задание Т9"
   ]
  },
  {
   "cell_type": "code",
   "execution_count": 3,
   "id": "ba6ab643",
   "metadata": {
    "id": "ba6ab643"
   },
   "outputs": [],
   "source": [
    "import matplotlib.pyplot as plt\n",
    "import numpy as np\n",
    "import pandas as pd\n",
    "from scipy.stats import chi2, kstwobign # Limiting distribution Kolmogorov-Smirnov - асимптотический метод, рекомендованный в scipy\n",
    "from scipy.special import kolmogorov\n",
    "from scipy.integrate import quad\n",
    "from scipy.optimize import minimize\n",
    "from tqdm import tqdm\n",
    "\n",
    "import scipy.stats as sps\n",
    "from scipy import stats\n",
    "import math\n",
    "import statistics\n",
    "from sklearn import preprocessing\n",
    "import seaborn as sns"
   ]
  },
  {
   "cell_type": "code",
   "execution_count": 4,
   "id": "1582a97d",
   "metadata": {
    "colab": {
     "base_uri": "https://localhost:8080/"
    },
    "id": "1582a97d",
    "outputId": "9c7b0e35-5917-4178-ee9c-a568d1e18c11"
   },
   "outputs": [
    {
     "data": {
      "text/plain": [
       "array([0, 0, 0, 0, 0, 1, 1, 1, 1, 1, 1, 1, 1, 2, 2, 2, 2, 2, 2, 3, 3, 3,\n",
       "       3, 3, 3, 3, 3, 3, 3, 3, 3, 4, 4, 4, 4, 4, 4, 4, 4, 4, 4, 4, 4, 4,\n",
       "       4, 5, 5, 5, 5, 5, 5, 5, 5, 5, 5, 5, 5, 5, 5, 5, 5, 5, 5, 6, 6, 6,\n",
       "       6, 6, 6, 6, 6, 6, 6, 6, 7, 7, 7, 7, 7, 7, 8, 8, 8, 8, 8, 8, 8, 8,\n",
       "       8, 8, 8, 8, 8, 9, 9, 9, 9, 9, 9, 9])"
      ]
     },
     "execution_count": 4,
     "metadata": {},
     "output_type": "execute_result"
    }
   ],
   "source": [
    "m = np.array([5, 8, 6, 12, 14, 18, 11, 6, 13, 7])\n",
    "N = 100\n",
    "sample = []\n",
    "for i in range(0, 10):\n",
    "  sample.extend([i]*m[i])\n",
    "sample = np.array(sample)\n",
    "sample"
   ]
  },
  {
   "cell_type": "code",
   "execution_count": 5,
   "id": "ksVObiPLqa5f",
   "metadata": {
    "colab": {
     "base_uri": "https://localhost:8080/"
    },
    "id": "ksVObiPLqa5f",
    "outputId": "b920590a-0f2b-4223-b428-5b2c5dcde605"
   },
   "outputs": [
    {
     "data": {
      "text/plain": [
       "array([0., 1., 2., 3., 4., 5., 6., 7., 8., 9.])"
      ]
     },
     "execution_count": 5,
     "metadata": {},
     "output_type": "execute_result"
    }
   ],
   "source": [
    "borders = np.linspace(0, 9, 10)\n",
    "borders"
   ]
  },
  {
   "cell_type": "markdown",
   "id": "f7f9a206",
   "metadata": {
    "id": "f7f9a206"
   },
   "source": [
    "# a)\n",
    "H0 - простая гипотеза"
   ]
  },
  {
   "cell_type": "markdown",
   "id": "kfmLI_rrEaZP",
   "metadata": {
    "id": "kfmLI_rrEaZP"
   },
   "source": [
    "## Критерий $\\chi^2$"
   ]
  },
  {
   "cell_type": "code",
   "execution_count": 6,
   "id": "IVMQnw4LGFyC",
   "metadata": {
    "colab": {
     "base_uri": "https://localhost:8080/",
     "height": 143
    },
    "id": "IVMQnw4LGFyC",
    "outputId": "d4528996-9a29-4cdb-b612-00d2965ef6df"
   },
   "outputs": [
    {
     "data": {
      "text/html": [
       "<div>\n",
       "<style scoped>\n",
       "    .dataframe tbody tr th:only-of-type {\n",
       "        vertical-align: middle;\n",
       "    }\n",
       "\n",
       "    .dataframe tbody tr th {\n",
       "        vertical-align: top;\n",
       "    }\n",
       "\n",
       "    .dataframe thead th {\n",
       "        text-align: right;\n",
       "    }\n",
       "</style>\n",
       "<table border=\"1\" class=\"dataframe\">\n",
       "  <thead>\n",
       "    <tr style=\"text-align: right;\">\n",
       "      <th></th>\n",
       "      <th>0</th>\n",
       "      <th>1</th>\n",
       "      <th>2</th>\n",
       "      <th>3</th>\n",
       "      <th>4</th>\n",
       "      <th>5</th>\n",
       "      <th>6</th>\n",
       "      <th>7</th>\n",
       "      <th>8</th>\n",
       "      <th>9</th>\n",
       "    </tr>\n",
       "  </thead>\n",
       "  <tbody>\n",
       "    <tr>\n",
       "      <th>p_i</th>\n",
       "      <td>0.1</td>\n",
       "      <td>0.1</td>\n",
       "      <td>0.1</td>\n",
       "      <td>0.1</td>\n",
       "      <td>0.1</td>\n",
       "      <td>0.1</td>\n",
       "      <td>0.1</td>\n",
       "      <td>0.1</td>\n",
       "      <td>0.1</td>\n",
       "      <td>0.1</td>\n",
       "    </tr>\n",
       "    <tr>\n",
       "      <th>m_i</th>\n",
       "      <td>5.0</td>\n",
       "      <td>8.0</td>\n",
       "      <td>6.0</td>\n",
       "      <td>12.0</td>\n",
       "      <td>14.0</td>\n",
       "      <td>18.0</td>\n",
       "      <td>11.0</td>\n",
       "      <td>6.0</td>\n",
       "      <td>13.0</td>\n",
       "      <td>7.0</td>\n",
       "    </tr>\n",
       "    <tr>\n",
       "      <th>np_i</th>\n",
       "      <td>10.0</td>\n",
       "      <td>10.0</td>\n",
       "      <td>10.0</td>\n",
       "      <td>10.0</td>\n",
       "      <td>10.0</td>\n",
       "      <td>10.0</td>\n",
       "      <td>10.0</td>\n",
       "      <td>10.0</td>\n",
       "      <td>10.0</td>\n",
       "      <td>10.0</td>\n",
       "    </tr>\n",
       "  </tbody>\n",
       "</table>\n",
       "</div>"
      ],
      "text/plain": [
       "         0     1     2     3     4     5     6     7     8     9\n",
       "p_i    0.1   0.1   0.1   0.1   0.1   0.1   0.1   0.1   0.1   0.1\n",
       "m_i    5.0   8.0   6.0  12.0  14.0  18.0  11.0   6.0  13.0   7.0\n",
       "np_i  10.0  10.0  10.0  10.0  10.0  10.0  10.0  10.0  10.0  10.0"
      ]
     },
     "execution_count": 6,
     "metadata": {},
     "output_type": "execute_result"
    }
   ],
   "source": [
    "p = np.array([0.1]*10)\n",
    "np_i = p * N\n",
    "pd.DataFrame(np.array([p, m, np_i]), columns=np.linspace(0, 9, 10, dtype=int), index=[\"p_i\", \"m_i\", \"np_i\"])"
   ]
  },
  {
   "cell_type": "markdown",
   "id": "GChfSfPpf2we",
   "metadata": {
    "id": "GChfSfPpf2we"
   },
   "source": [
    "*Примечание: все np_i и m_i больше 5*"
   ]
  },
  {
   "cell_type": "code",
   "execution_count": 10,
   "id": "qPLdRQ9oMENg",
   "metadata": {
    "colab": {
     "base_uri": "https://localhost:8080/"
    },
    "id": "qPLdRQ9oMENg",
    "outputId": "f40ea704-dad9-4403-a2d9-b10b93339973"
   },
   "outputs": [
    {
     "name": "stdout",
     "output_type": "stream",
     "text": [
      "delta_est =  16.4\n"
     ]
    }
   ],
   "source": [
    "delta = 0\n",
    "for i in range(10):\n",
    "  delta += (m[i] - np_i[i])**2 / np_i[i]\n",
    "\n",
    "print(f'delta_est =  {delta}')"
   ]
  },
  {
   "cell_type": "markdown",
   "id": "GHNxwxrbNyZg",
   "metadata": {
    "id": "GHNxwxrbNyZg"
   },
   "source": [
    "$\\Delta$ ~ $\\chi^2$(9)"
   ]
  },
  {
   "cell_type": "code",
   "execution_count": 11,
   "id": "B5TE8FAlRF9D",
   "metadata": {
    "colab": {
     "base_uri": "https://localhost:8080/"
    },
    "id": "B5TE8FAlRF9D",
    "outputId": "83603735-0e60-491c-eb0e-ea3044f11205"
   },
   "outputs": [
    {
     "name": "stdout",
     "output_type": "stream",
     "text": [
      "p_value =  0.058984030544419475 > α = 0.05\n",
      "недостаточно оснований, чтообы отвергнуть гипотезу\n"
     ]
    }
   ],
   "source": [
    "p_value = 1 - stats.chi2.cdf(delta, 9)\n",
    "print(f'p_value =  {p_value} > α = 0.05')\n",
    "print(\"недостаточно оснований, чтообы отвергнуть гипотезу\")"
   ]
  },
  {
   "cell_type": "markdown",
   "id": "sMEoC0L2SPjQ",
   "metadata": {
    "id": "sMEoC0L2SPjQ"
   },
   "source": [
    "## Критерий Колмогорова"
   ]
  },
  {
   "cell_type": "code",
   "execution_count": 12,
   "id": "U3E_4ScDd2kv",
   "metadata": {
    "colab": {
     "base_uri": "https://localhost:8080/",
     "height": 474
    },
    "id": "U3E_4ScDd2kv",
    "outputId": "efbab75e-2f17-4a82-fa8c-d0a262cde17b"
   },
   "outputs": [
    {
     "data": {
      "image/png": "[encoded data removed]",
      "text/plain": [
       "<Figure size 640x480 with 1 Axes>"
      ]
     },
     "metadata": {},
     "output_type": "display_data"
    }
   ],
   "source": [
    "def EDF(sample, ret=False, plot=True):\n",
    "  prob = np.zeros(len(borders))\n",
    "  sample = np.sort(sample)\n",
    "  for t in borders:\n",
    "    prob[int(t)] = len(sample[sample <= t])/N\n",
    "  prob[-1] += len(sample[sample > borders[-1]])/N\n",
    "\n",
    "  if plot == True:\n",
    "    plt.step(borders, prob, where=\"post\", color=\"crimson\", label=\"ЭФР\")\n",
    "    plt.minorticks_on()\n",
    "    plt.grid()\n",
    "\n",
    "    plt.title('Empirical Distribution Function', fontsize=15,  fontweight='bold')\n",
    "    plt.xlabel('Sample', fontsize=10, fontweight='bold')\n",
    "    plt.legend()\n",
    "    plt.show()\n",
    "  if ret == True:\n",
    "    return prob\n",
    "\n",
    "plt.plot([0, 9], [0, 1], label=\"ФР\")\n",
    "prob = EDF(sample, ret=True)"
   ]
  },
  {
   "cell_type": "markdown",
   "id": "06H2NdmQcTjE",
   "metadata": {
    "id": "06H2NdmQcTjE"
   },
   "source": [
    "Сравниваем отклонение с двух сторон от ФР"
   ]
  },
  {
   "cell_type": "code",
   "execution_count": 13,
   "id": "-E2eveYTm9kd",
   "metadata": {
    "id": "-E2eveYTm9kd"
   },
   "outputs": [],
   "source": [
    "def calc_delta(prob, teor_DF, N):\n",
    "  prob2 = np.copy(prob)\n",
    "  prob2[1:] = prob[:-1]\n",
    "  prob2[0] = 0\n",
    "  return max(max(abs(teor_DF - prob)), max(abs(teor_DF - prob2)))*N**0.5"
   ]
  },
  {
   "cell_type": "code",
   "execution_count": 14,
   "id": "451d5eae",
   "metadata": {
    "colab": {
     "base_uri": "https://localhost:8080/"
    },
    "id": "451d5eae",
    "outputId": "7379eb1a-115f-4948-c330-66a1dfb4dc04"
   },
   "outputs": [
    {
     "data": {
      "text/plain": [
       "1.4333333333333331"
      ]
     },
     "execution_count": 14,
     "metadata": {},
     "output_type": "execute_result"
    }
   ],
   "source": [
    "delta = calc_delta(prob, np.linspace(0, 9, 10) / 9, N)\n",
    "delta"
   ]
  },
  {
   "cell_type": "code",
   "execution_count": 16,
   "id": "8yG4IXdQlY-q",
   "metadata": {
    "colab": {
     "base_uri": "https://localhost:8080/"
    },
    "id": "8yG4IXdQlY-q",
    "outputId": "015ea269-93d7-4289-e2b9-46ddee0b40ca"
   },
   "outputs": [
    {
     "name": "stdout",
     "output_type": "stream",
     "text": [
      "p_value =  0.032851885438597406 < α = 0.05\n",
      "достаточно оснований, чтобы отвергнуть гипотезу\n"
     ]
    }
   ],
   "source": [
    "p_value = 1 - kstwobign.cdf(delta)\n",
    "print(f'p_value =  {p_value} < α = 0.05')\n",
    "print(\"достаточно оснований, чтобы отвергнуть гипотезу\")"
   ]
  },
  {
   "cell_type": "markdown",
   "id": "qaPq8sL6dOps",
   "metadata": {
    "id": "qaPq8sL6dOps"
   },
   "source": [
    "**Вывод:** Критерий Колмогорова оказался более чувствительным и выявил несогласие данных с законом равномерного распределения"
   ]
  },
  {
   "cell_type": "markdown",
   "id": "2a48924d",
   "metadata": {
    "id": "2a48924d"
   },
   "source": [
    "# b)\n",
    "H0 - сложная гипотеза (с двумя параметрами)"
   ]
  },
  {
   "cell_type": "markdown",
   "id": "kneWPXapcspH",
   "metadata": {
    "id": "kneWPXapcspH"
   },
   "source": [
    "## Критерий $\\chi^2$"
   ]
  },
  {
   "cell_type": "markdown",
   "id": "_XIP92IaLmRB",
   "metadata": {
    "id": "_XIP92IaLmRB"
   },
   "source": [
    "### Интервалы"
   ]
  },
  {
   "cell_type": "code",
   "execution_count": 17,
   "id": "2YpAuv8Gc3_w",
   "metadata": {
    "colab": {
     "base_uri": "https://localhost:8080/",
     "height": 81
    },
    "id": "2YpAuv8Gc3_w",
    "outputId": "99fd83ea-4174-4534-c495-1d4f758986f0"
   },
   "outputs": [
    {
     "data": {
      "text/html": [
       "<div>\n",
       "<style scoped>\n",
       "    .dataframe tbody tr th:only-of-type {\n",
       "        vertical-align: middle;\n",
       "    }\n",
       "\n",
       "    .dataframe tbody tr th {\n",
       "        vertical-align: top;\n",
       "    }\n",
       "\n",
       "    .dataframe thead th {\n",
       "        text-align: right;\n",
       "    }\n",
       "</style>\n",
       "<table border=\"1\" class=\"dataframe\">\n",
       "  <thead>\n",
       "    <tr style=\"text-align: right;\">\n",
       "      <th></th>\n",
       "      <th>(-inf, 1)</th>\n",
       "      <th>[1, 2)</th>\n",
       "      <th>[2, 3)</th>\n",
       "      <th>[3, 4)</th>\n",
       "      <th>[4, 5)</th>\n",
       "      <th>[5, 6)</th>\n",
       "      <th>[6, 7)</th>\n",
       "      <th>[7, 8)</th>\n",
       "      <th>[8, 9)</th>\n",
       "      <th>[9, +inf)</th>\n",
       "    </tr>\n",
       "  </thead>\n",
       "  <tbody>\n",
       "    <tr>\n",
       "      <th>m_i</th>\n",
       "      <td>5</td>\n",
       "      <td>8</td>\n",
       "      <td>6</td>\n",
       "      <td>12</td>\n",
       "      <td>14</td>\n",
       "      <td>18</td>\n",
       "      <td>11</td>\n",
       "      <td>6</td>\n",
       "      <td>13</td>\n",
       "      <td>7</td>\n",
       "    </tr>\n",
       "  </tbody>\n",
       "</table>\n",
       "</div>"
      ],
      "text/plain": [
       "     (-inf, 1)  [1, 2)  [2, 3)  [3, 4)  [4, 5)  [5, 6)  [6, 7)  [7, 8)   \n",
       "m_i          5       8       6      12      14      18      11       6  \\\n",
       "\n",
       "     [8, 9)  [9, +inf)  \n",
       "m_i      13          7  "
      ]
     },
     "execution_count": 17,
     "metadata": {},
     "output_type": "execute_result"
    }
   ],
   "source": [
    "intervals = [\"(-inf, 1)\", \"[1, 2)\", \"[2, 3)\", \"[3, 4)\", \"[4, 5)\", \"[5, 6)\", \"[6, 7)\", \"[7, 8)\", \"[8, 9)\", \"[9, +inf)\",]\n",
    "pd.DataFrame(np.array([m]), columns=intervals, index=[\"m_i\"])"
   ]
  },
  {
   "cell_type": "markdown",
   "id": "B0FApGTVlowV",
   "metadata": {
    "id": "B0FApGTVlowV"
   },
   "source": [
    "### Оценка параметров максимизацией функции правдоподобия"
   ]
  },
  {
   "cell_type": "code",
   "execution_count": 18,
   "id": "6dgrhzrpnQvC",
   "metadata": {
    "colab": {
     "base_uri": "https://localhost:8080/"
    },
    "id": "6dgrhzrpnQvC",
    "outputId": "41d6de83-a1a3-40b7-e4f0-1d303a00f5c3"
   },
   "outputs": [
    {
     "data": {
      "text/plain": [
       "array([-inf,   1.,   2.,   3.,   4.,   5.,   6.,   7.,   8.,   9.,  inf])"
      ]
     },
     "execution_count": 18,
     "metadata": {},
     "output_type": "execute_result"
    }
   ],
   "source": [
    "limits = np.array(-np.inf)\n",
    "limits = np.append(limits, np.linspace(1, 9, 9))\n",
    "limits = np.append(limits, np.inf)\n",
    "limits"
   ]
  },
  {
   "cell_type": "code",
   "execution_count": 19,
   "id": "anBFBySJooDv",
   "metadata": {
    "id": "anBFBySJooDv"
   },
   "outputs": [],
   "source": [
    "def norm(x, mu, sigma):\n",
    "  return 1/sigma/np.sqrt(2*np.pi) * np.exp(-1/2*((x-mu)/sigma)**2)"
   ]
  },
  {
   "cell_type": "code",
   "execution_count": 20,
   "id": "rr4tgvZQn0TY",
   "metadata": {
    "id": "rr4tgvZQn0TY"
   },
   "outputs": [],
   "source": [
    "def norm_integr(mu, sigma, a, b):\n",
    "  return quad(norm, a, b, args=(mu, sigma))[0]"
   ]
  },
  {
   "cell_type": "code",
   "execution_count": 21,
   "id": "X-BHm0HhqKLN",
   "metadata": {
    "colab": {
     "base_uri": "https://localhost:8080/"
    },
    "id": "X-BHm0HhqKLN",
    "outputId": "7c5a75d5-0c4f-41a0-aaf1-9d638d0c8d43"
   },
   "outputs": [
    {
     "data": {
      "text/plain": [
       "0.9999999999999997"
      ]
     },
     "execution_count": 21,
     "metadata": {},
     "output_type": "execute_result"
    }
   ],
   "source": [
    "norm_integr(0, 1, -np.inf, np.inf)"
   ]
  },
  {
   "cell_type": "code",
   "execution_count": 22,
   "id": "31E1Ap4jc4Si",
   "metadata": {
    "colab": {
     "base_uri": "https://localhost:8080/"
    },
    "id": "31E1Ap4jc4Si",
    "outputId": "cb08c4c5-e0cc-4b62-f59a-5f5eeae2e8bd"
   },
   "outputs": [
    {
     "data": {
      "text/plain": [
       "1688.8762131006292"
      ]
     },
     "execution_count": 22,
     "metadata": {},
     "output_type": "execute_result"
    }
   ],
   "source": [
    "def L(params, lim, m):\n",
    "  mu, sigma = params\n",
    "  L_value = 0.\n",
    "  for i in range(len(lim)-1):\n",
    "    L_value -= np.log(norm_integr(mu, sigma, lim[i], lim[i+1]))*m[i]\n",
    "    #print(L_value)\n",
    "  return L_value\n",
    "\n",
    "L([0, 1], limits, m)"
   ]
  },
  {
   "cell_type": "code",
   "execution_count": 23,
   "id": "xG6O4HLIc4Zn",
   "metadata": {
    "colab": {
     "base_uri": "https://localhost:8080/"
    },
    "id": "xG6O4HLIc4Zn",
    "outputId": "6075c3c9-3c1f-477a-993b-f7e37f52782c"
   },
   "outputs": [
    {
     "data": {
      "text/plain": [
       "(5.289706214472983, 2.679519798514499)"
      ]
     },
     "execution_count": 23,
     "metadata": {},
     "output_type": "execute_result"
    }
   ],
   "source": [
    "initial_guess = [0, 1]\n",
    "mu, sigma = minimize(L, initial_guess, method=\"Nelder-Mead\", args=(limits, m)).x\n",
    "mu, sigma"
   ]
  },
  {
   "cell_type": "markdown",
   "id": "XIbxpGMXLsB0",
   "metadata": {
    "id": "XIbxpGMXLsB0"
   },
   "source": [
    "### Расчет вероятностей попадания в интервалы"
   ]
  },
  {
   "cell_type": "code",
   "execution_count": 24,
   "id": "XExuD0mK2k69",
   "metadata": {
    "colab": {
     "base_uri": "https://localhost:8080/"
    },
    "id": "XExuD0mK2k69",
    "outputId": "b8419cfe-f15e-4b1b-a421-0fcff585a42b"
   },
   "outputs": [
    {
     "data": {
      "text/plain": [
       "array([0.05469693, 0.05507868, 0.08663255, 0.11873642, 0.14180619,\n",
       "       0.14757628, 0.13382844, 0.10575231, 0.07281797, 0.08307424])"
      ]
     },
     "execution_count": 24,
     "metadata": {},
     "output_type": "execute_result"
    }
   ],
   "source": [
    "def calc_p_i(mu, sigma, lim):\n",
    "  p = np.zeros(len(m))\n",
    "  for i in range(len(lim)-1):\n",
    "    p[i] = norm_integr(mu, sigma, lim[i], lim[i+1])\n",
    "  return p\n",
    "\n",
    "p = calc_p_i(mu, sigma, limits)\n",
    "p"
   ]
  },
  {
   "cell_type": "code",
   "execution_count": 25,
   "id": "_Dpzu3PCzcgc",
   "metadata": {
    "colab": {
     "base_uri": "https://localhost:8080/",
     "height": 112
    },
    "id": "_Dpzu3PCzcgc",
    "outputId": "853cb692-6b16-43c2-90b3-42ac2d657698"
   },
   "outputs": [
    {
     "data": {
      "text/html": [
       "<div>\n",
       "<style scoped>\n",
       "    .dataframe tbody tr th:only-of-type {\n",
       "        vertical-align: middle;\n",
       "    }\n",
       "\n",
       "    .dataframe tbody tr th {\n",
       "        vertical-align: top;\n",
       "    }\n",
       "\n",
       "    .dataframe thead th {\n",
       "        text-align: right;\n",
       "    }\n",
       "</style>\n",
       "<table border=\"1\" class=\"dataframe\">\n",
       "  <thead>\n",
       "    <tr style=\"text-align: right;\">\n",
       "      <th></th>\n",
       "      <th>(-inf, 1)</th>\n",
       "      <th>[1, 2)</th>\n",
       "      <th>[2, 3)</th>\n",
       "      <th>[3, 4)</th>\n",
       "      <th>[4, 5)</th>\n",
       "      <th>[5, 6)</th>\n",
       "      <th>[6, 7)</th>\n",
       "      <th>[7, 8)</th>\n",
       "      <th>[8, 9)</th>\n",
       "      <th>[9, +inf)</th>\n",
       "    </tr>\n",
       "  </thead>\n",
       "  <tbody>\n",
       "    <tr>\n",
       "      <th>m_i</th>\n",
       "      <td>5.000000</td>\n",
       "      <td>8.000000</td>\n",
       "      <td>6.000000</td>\n",
       "      <td>12.000000</td>\n",
       "      <td>14.000000</td>\n",
       "      <td>18.000000</td>\n",
       "      <td>11.000000</td>\n",
       "      <td>6.000000</td>\n",
       "      <td>13.000000</td>\n",
       "      <td>7.000000</td>\n",
       "    </tr>\n",
       "    <tr>\n",
       "      <th>np_i</th>\n",
       "      <td>5.469693</td>\n",
       "      <td>5.507868</td>\n",
       "      <td>8.663255</td>\n",
       "      <td>11.873642</td>\n",
       "      <td>14.180619</td>\n",
       "      <td>14.757628</td>\n",
       "      <td>13.382844</td>\n",
       "      <td>10.575231</td>\n",
       "      <td>7.281797</td>\n",
       "      <td>8.307424</td>\n",
       "    </tr>\n",
       "  </tbody>\n",
       "</table>\n",
       "</div>"
      ],
      "text/plain": [
       "      (-inf, 1)    [1, 2)    [2, 3)     [3, 4)     [4, 5)     [5, 6)   \n",
       "m_i    5.000000  8.000000  6.000000  12.000000  14.000000  18.000000  \\\n",
       "np_i   5.469693  5.507868  8.663255  11.873642  14.180619  14.757628   \n",
       "\n",
       "         [6, 7)     [7, 8)     [8, 9)  [9, +inf)  \n",
       "m_i   11.000000   6.000000  13.000000   7.000000  \n",
       "np_i  13.382844  10.575231   7.281797   8.307424  "
      ]
     },
     "execution_count": 25,
     "metadata": {},
     "output_type": "execute_result"
    }
   ],
   "source": [
    "np_i = p * N\n",
    "intervals = [\"(-inf, 1)\", \"[1, 2)\", \"[2, 3)\", \"[3, 4)\", \"[4, 5)\", \"[5, 6)\", \"[6, 7)\", \"[7, 8)\", \"[8, 9)\", \"[9, +inf)\",]\n",
    "pd.DataFrame(np.array([m, np_i]), columns=intervals, index=[\"m_i\", \"np_i\"])"
   ]
  },
  {
   "cell_type": "markdown",
   "id": "aFVWyRDYLzOO",
   "metadata": {
    "id": "aFVWyRDYLzOO"
   },
   "source": [
    "### Оценка p_value"
   ]
  },
  {
   "cell_type": "code",
   "execution_count": 26,
   "id": "J_PwzYb7zcj1",
   "metadata": {
    "colab": {
     "base_uri": "https://localhost:8080/"
    },
    "id": "J_PwzYb7zcj1",
    "outputId": "1aa9cf47-c738-46e2-fe4f-16d0b88bc59a"
   },
   "outputs": [
    {
     "data": {
      "text/plain": [
       "9.80249937945015"
      ]
     },
     "execution_count": 26,
     "metadata": {},
     "output_type": "execute_result"
    }
   ],
   "source": [
    "delta = 0\n",
    "for i in range(len(m)):\n",
    "  delta += (m[i] - np_i[i])**2 / np_i[i]\n",
    "\n",
    "delta"
   ]
  },
  {
   "cell_type": "markdown",
   "id": "JHRCZ2263snw",
   "metadata": {
    "id": "JHRCZ2263snw"
   },
   "source": [
    "$\\Delta$ ~ $\\chi^2$(10-1-2)"
   ]
  },
  {
   "cell_type": "code",
   "execution_count": 28,
   "id": "nBiL7Saa3snx",
   "metadata": {
    "colab": {
     "base_uri": "https://localhost:8080/"
    },
    "id": "nBiL7Saa3snx",
    "outputId": "a6220dcb-1ef7-47b5-cc04-82b009e3b39b"
   },
   "outputs": [
    {
     "name": "stdout",
     "output_type": "stream",
     "text": [
      "p_value =  0.2000446578669305 > α = 0.05\n",
      "недостаточно оснований, чтообы отвергнуть гипотезу\n"
     ]
    }
   ],
   "source": [
    "p_value = 1 - stats.chi2.cdf(delta, 7)\n",
    "print(f'p_value =  {p_value} > α = 0.05')\n",
    "print(\"недостаточно оснований, чтообы отвергнуть гипотезу\")"
   ]
  },
  {
   "cell_type": "markdown",
   "id": "Lcf-ys6Lcxlf",
   "metadata": {
    "id": "Lcf-ys6Lcxlf"
   },
   "source": [
    "## Критерий Колмогорова\n",
    "Применим т.к. распределение непрерывное"
   ]
  },
  {
   "cell_type": "markdown",
   "id": "--3lZhI2MHTz",
   "metadata": {
    "id": "--3lZhI2MHTz"
   },
   "source": [
    "### Оценка параметров по выборке"
   ]
  },
  {
   "cell_type": "code",
   "execution_count": 29,
   "id": "oINrQudiMNbe",
   "metadata": {
    "colab": {
     "base_uri": "https://localhost:8080/"
    },
    "id": "oINrQudiMNbe",
    "outputId": "faaf6043-7eb7-4b27-bb55-067be7e5ce45"
   },
   "outputs": [
    {
     "data": {
      "text/plain": [
       "(4.77, 2.5180359509953494)"
      ]
     },
     "execution_count": 29,
     "metadata": {},
     "output_type": "execute_result"
    }
   ],
   "source": [
    "def norm_dist_params(sample):\n",
    "  mean = np.mean(sample)\n",
    "  return mean, np.sqrt(N/(N-1) * np.mean( (sample-mean)**2 ))\n",
    "\n",
    "_mu, _sigma = norm_dist_params(sample)\n",
    "_mu, _sigma"
   ]
  },
  {
   "cell_type": "markdown",
   "id": "ftY-BKBMtjC5",
   "metadata": {
    "id": "ftY-BKBMtjC5"
   },
   "source": [
    "### Теоретическая функция распределения"
   ]
  },
  {
   "cell_type": "code",
   "execution_count": 30,
   "id": "6JQoE4x5p5ht",
   "metadata": {
    "colab": {
     "base_uri": "https://localhost:8080/"
    },
    "id": "6JQoE4x5p5ht",
    "outputId": "ecf85460-ea0b-4fca-de01-132d0c5b10ba"
   },
   "outputs": [
    {
     "data": {
      "text/plain": [
       "array([0.02909037, 0.06717079, 0.13565218, 0.24105006, 0.37988079,\n",
       "       0.53638919, 0.68739362, 0.81208637, 0.90020942, 0.95350974])"
      ]
     },
     "execution_count": 30,
     "metadata": {},
     "output_type": "execute_result"
    }
   ],
   "source": [
    "def calc_teor_DF(_mu_i, _sigma_i):\n",
    "  norm_f = np.array([])\n",
    "  for t in borders:\n",
    "      norm_f = np.append(norm_f, norm_integr(_mu_i, _sigma_i, -np.inf, t))\n",
    "  return norm_f\n",
    "norm_f = calc_teor_DF(_mu, _sigma)\n",
    "norm_f"
   ]
  },
  {
   "cell_type": "markdown",
   "id": "FSQA5JN-twc0",
   "metadata": {
    "id": "FSQA5JN-twc0"
   },
   "source": [
    "### Сравнение ЭФР и теоретической ФР"
   ]
  },
  {
   "cell_type": "code",
   "execution_count": 31,
   "id": "RWGG4mV9c1N0",
   "metadata": {
    "colab": {
     "base_uri": "https://localhost:8080/",
     "height": 474
    },
    "id": "RWGG4mV9c1N0",
    "outputId": "b3a082c8-9dc0-474f-95d6-f5315d93a46d"
   },
   "outputs": [
    {
     "data": {
      "image/png": "[encoded data removed]",
      "text/plain": [
       "<Figure size 640x480 with 1 Axes>"
      ]
     },
     "metadata": {},
     "output_type": "display_data"
    }
   ],
   "source": [
    "plt.plot(np.arange(0,10), norm_f, label=\"ФР\")\n",
    "prob = EDF(sample, ret=True)"
   ]
  },
  {
   "cell_type": "markdown",
   "id": "TT5lXdrQnrNg",
   "metadata": {
    "id": "TT5lXdrQnrNg"
   },
   "source": [
    "$\\Delta$ по исходной выборке"
   ]
  },
  {
   "cell_type": "code",
   "execution_count": 32,
   "id": "Y7YAa3jvnrWt",
   "metadata": {
    "colab": {
     "base_uri": "https://localhost:8080/"
    },
    "id": "Y7YAa3jvnrWt",
    "outputId": "ea847042-2d6d-4827-81b3-093fa4eb0e55"
   },
   "outputs": [
    {
     "data": {
      "text/plain": [
       "1.0020942299329105"
      ]
     },
     "execution_count": 32,
     "metadata": {},
     "output_type": "execute_result"
    }
   ],
   "source": [
    "delta = calc_delta(prob, norm_f, N)\n",
    "delta"
   ]
  },
  {
   "cell_type": "markdown",
   "id": "-dKgEyE5Ldy9",
   "metadata": {
    "id": "-dKgEyE5Ldy9"
   },
   "source": [
    "### Вычисление $\\Delta_i$ бутстрапом"
   ]
  },
  {
   "cell_type": "code",
   "execution_count": 96,
   "id": "L1RXSdcE4TlP",
   "metadata": {
    "colab": {
     "base_uri": "https://localhost:8080/"
    },
    "id": "L1RXSdcE4TlP",
    "outputId": "07c221b7-4b6f-4436-ca31-dfcc331dbd2a"
   },
   "outputs": [
    {
     "name": "stderr",
     "output_type": "stream",
     "text": [
      "100%|████████████████████████████████████| 50000/50000 [02:29<00:00, 335.50it/s]\n"
     ]
    },
    {
     "data": {
      "text/plain": [
       "array([1.90776112, 2.3142024 , 2.03938291, ..., 1.61331542, 1.61932182,\n",
       "       1.68172506])"
      ]
     },
     "execution_count": 96,
     "metadata": {},
     "output_type": "execute_result"
    }
   ],
   "source": [
    "bootstrap_length = 50000\n",
    "delta_bt = np.zeros(bootstrap_length)\n",
    "_mu, _sigma = norm_dist_params(sample)\n",
    "\n",
    "for i in tqdm(range(bootstrap_length)):\n",
    "  sample_i = np.random.normal(_mu, _sigma, N)\n",
    "  _mu_i, _sigma_i = norm_dist_params(sample_i)\n",
    "  norm_f_i = calc_teor_DF(_mu_i, _sigma_i)\n",
    "  prob_i = EDF(sample_i, ret=True, plot=False)\n",
    "  delta_bt[i] = calc_delta(prob_i, norm_f_i, N)\n",
    "\n",
    "delta_bt"
   ]
  },
  {
   "cell_type": "code",
   "execution_count": 97,
   "id": "xMjPRISf0D0v",
   "metadata": {
    "colab": {
     "base_uri": "https://localhost:8080/",
     "height": 430
    },
    "id": "xMjPRISf0D0v",
    "outputId": "b2d4e5ed-9617-40b5-e503-0671675f3e52"
   },
   "outputs": [
    {
     "data": {
      "image/png": "[encoded data removed]",
      "text/plain": [
       "<Figure size 640x480 with 1 Axes>"
      ]
     },
     "metadata": {},
     "output_type": "display_data"
    }
   ],
   "source": [
    "k = 1 + int(round(np.log2(len(delta_bt))))\n",
    "plt.hist(delta_bt, density=True, bins=k);"
   ]
  },
  {
   "cell_type": "code",
   "execution_count": 98,
   "id": "MgnisTqPs0-d",
   "metadata": {
    "colab": {
     "base_uri": "https://localhost:8080/"
    },
    "id": "MgnisTqPs0-d",
    "outputId": "492512c3-f08e-4cd7-a668-4baeea16fbea"
   },
   "outputs": [
    {
     "data": {
      "text/plain": [
       "0.9958651698823695"
      ]
     },
     "execution_count": 98,
     "metadata": {},
     "output_type": "execute_result"
    }
   ],
   "source": [
    "min(delta_bt)"
   ]
  },
  {
   "cell_type": "code",
   "execution_count": 99,
   "id": "d-zOS0on16fn",
   "metadata": {
    "id": "d-zOS0on16fn"
   },
   "outputs": [
    {
     "data": {
      "text/plain": [
       "array([0.99586517, 1.02511421, 1.03085728, ..., 2.84552006, 2.90993887,\n",
       "       2.97642138])"
      ]
     },
     "execution_count": 99,
     "metadata": {},
     "output_type": "execute_result"
    }
   ],
   "source": [
    "delta_bt.sort()\n",
    "delta_bt"
   ]
  },
  {
   "cell_type": "code",
   "execution_count": 100,
   "id": "c5f3bf99",
   "metadata": {},
   "outputs": [
    {
     "data": {
      "text/plain": [
       "1"
      ]
     },
     "execution_count": 100,
     "metadata": {},
     "output_type": "execute_result"
    }
   ],
   "source": [
    "sum(delta_bt < delta)"
   ]
  },
  {
   "cell_type": "code",
   "execution_count": 102,
   "id": "XolSLtlY16fn",
   "metadata": {
    "colab": {
     "base_uri": "https://localhost:8080/"
    },
    "id": "XolSLtlY16fn",
    "outputId": "bcc16293-dd29-465c-d8a7-f950ebd47753"
   },
   "outputs": [
    {
     "name": "stdout",
     "output_type": "stream",
     "text": [
      "p_value =  0.99998 > α = 0.05\n"
     ]
    }
   ],
   "source": [
    "k = sum(delta_bt < delta)\n",
    "k += 1\n",
    "\n",
    "p_value = 1 - (k - 1)/bootstrap_length\n",
    "print(f'p_value =  {p_value} > α = 0.05')"
   ]
  },
  {
   "cell_type": "markdown",
   "id": "fORV_jeU2i2m",
   "metadata": {
    "id": "fORV_jeU2i2m"
   },
   "source": [
    "Недостаточно оснований, чтобы отвергнуть гипотезу"
   ]
  },
  {
   "cell_type": "markdown",
   "id": "QzPDLlRI2ryk",
   "metadata": {
    "id": "QzPDLlRI2ryk"
   },
   "source": [
    "**Вывод:** оба критерия показали согласованность данных с нормальным распределением"
   ]
  },
  {
   "cell_type": "code",
   "execution_count": null,
   "id": "de7aee44",
   "metadata": {},
   "outputs": [],
   "source": []
  },
  {
   "cell_type": "code",
   "execution_count": null,
   "id": "71141437",
   "metadata": {},
   "outputs": [],
   "source": []
  },
  {
   "cell_type": "code",
   "execution_count": null,
   "id": "e85466d3",
   "metadata": {},
   "outputs": [],
   "source": []
  }
 ],
 "metadata": {
  "colab": {
   "provenance": [],
   "toc_visible": true
  },
  "kernelspec": {
   "display_name": "Python 3 (ipykernel)",
   "language": "python",
   "name": "python3"
  },
  "language_info": {
   "codemirror_mode": {
    "name": "ipython",
    "version": 3
   },
   "file_extension": ".py",
   "mimetype": "text/x-python",
   "name": "python",
   "nbconvert_exporter": "python",
   "pygments_lexer": "ipython3",
   "version": "3.10.12"
  }
 },
 "nbformat": 4,
 "nbformat_minor": 5
}
