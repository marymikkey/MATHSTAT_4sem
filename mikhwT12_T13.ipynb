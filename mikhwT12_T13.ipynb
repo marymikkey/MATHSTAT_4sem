{
 "cells": [
  {
   "cell_type": "markdown",
   "id": "510b7086",
   "metadata": {},
   "source": [
    "# Микишева Мария Б03-212 \n",
    "# Задания Т12 - Т13 "
   ]
  },
  {
   "cell_type": "code",
   "execution_count": 345,
   "id": "4ffaa338",
   "metadata": {},
   "outputs": [],
   "source": [
    "import numpy as np\n",
    "import pandas as pd\n",
    "from scipy.integrate import quad\n",
    "from scipy.optimize import minimize\n",
    "from tqdm import tqdm\n",
    "import matplotlib.pyplot as plt\n",
    "import scipy.stats as sps\n",
    "from scipy.stats import chi2, kstwobign , t, moment\n",
    "from scipy import stats\n",
    "from math import *\n",
    "import statistics\n",
    "from sklearn import preprocessing\n"
   ]
  },
  {
   "cell_type": "code",
   "execution_count": 346,
   "id": "701cd28d",
   "metadata": {},
   "outputs": [],
   "source": [
    "α = 0.05"
   ]
  },
  {
   "cell_type": "markdown",
   "id": "4c5920ab",
   "metadata": {},
   "source": [
    "## T12"
   ]
  },
  {
   "cell_type": "markdown",
   "id": "f5735561",
   "metadata": {},
   "source": [
    "1ый подход (принимаем решение о гипотезе через p-value)"
   ]
  },
  {
   "cell_type": "code",
   "execution_count": 347,
   "id": "537e51f3",
   "metadata": {},
   "outputs": [],
   "source": [
    "delta = 48"
   ]
  },
  {
   "cell_type": "code",
   "execution_count": 348,
   "id": "358456d6",
   "metadata": {},
   "outputs": [
    {
     "name": "stdout",
     "output_type": "stream",
     "text": [
      "p_value =  0.00252 < α = 0.05\n",
      "Отвергаем гипотезу H0\n"
     ]
    }
   ],
   "source": [
    "p_value = 1 - stats.chi2.cdf(delta, 24)\n",
    "print(f'p_value =  {round(p_value, 5)} < α = 0.05')\n",
    "print(\"Отвергаем гипотезу H0\")"
   ]
  },
  {
   "cell_type": "markdown",
   "id": "f2931577",
   "metadata": {},
   "source": [
    "2ой подход (Определяем крит. область, а затем можем исследовать мощность критерия и ошибки)"
   ]
  },
  {
   "cell_type": "markdown",
   "id": "c431dc37",
   "metadata": {},
   "source": [
    "$$\n",
    "\\begin{align}\n",
    "G_{крит}: \\Delta \\ge С\\\\\n",
    "\\Delta \\backsim \\chi^2(24)\n",
    "\\end{align}\n",
    "$$"
   ]
  },
  {
   "cell_type": "markdown",
   "id": "31d0b920",
   "metadata": {},
   "source": [
    "Ищем С"
   ]
  },
  {
   "cell_type": "markdown",
   "id": "fba7b784",
   "metadata": {},
   "source": [
    "$α_1$ = $P$ ( $\\Delta$ $\\ge$ С | $H_0$) = $α$ = 0.05 => $\\int_C^\\infty p_{\\chi^2(24)}(x)\\,dx$ = 0.05\n"
   ]
  },
  {
   "cell_type": "code",
   "execution_count": 349,
   "id": "d4a45646",
   "metadata": {},
   "outputs": [
    {
     "data": {
      "text/plain": [
       "0.05000000567133844"
      ]
     },
     "execution_count": 349,
     "metadata": {},
     "output_type": "execute_result"
    }
   ],
   "source": [
    "1 - stats.chi2.cdf(36.415028, 24)"
   ]
  },
  {
   "cell_type": "markdown",
   "id": "a1c78309",
   "metadata": {},
   "source": [
    "С  $\\approx$  36.415028"
   ]
  },
  {
   "cell_type": "markdown",
   "id": "e8ac066a",
   "metadata": {},
   "source": [
    "Тогда\n",
    "$$\n",
    "\\begin{align}\n",
    "G_{крит}: \\frac{24*s^2}{0.1} \\ge 36.415\\\\\n",
    "\\end{align}\n",
    "$$"
   ]
  },
  {
   "cell_type": "code",
   "execution_count": 350,
   "id": "4d504928",
   "metadata": {},
   "outputs": [
    {
     "data": {
      "text/plain": [
       "0.15172916666666666"
      ]
     },
     "execution_count": 350,
     "metadata": {},
     "output_type": "execute_result"
    }
   ],
   "source": [
    "36.415*0.1/24"
   ]
  },
  {
   "cell_type": "markdown",
   "id": "25a30b9d",
   "metadata": {},
   "source": [
    "$$\n",
    "\\begin{align}\n",
    "G_{крит}: s^2 \\ge 0.152\\\\\n",
    "\\end{align}\n",
    "$$"
   ]
  },
  {
   "cell_type": "markdown",
   "id": "05411aaa",
   "metadata": {},
   "source": [
    "Исследование мощности"
   ]
  },
  {
   "cell_type": "code",
   "execution_count": 351,
   "id": "c033e04e",
   "metadata": {},
   "outputs": [
    {
     "data": {
      "image/png": "[encoded data removed]",
      "text/plain": [
       "<Figure size 640x480 with 1 Axes>"
      ]
     },
     "metadata": {},
     "output_type": "display_data"
    }
   ],
   "source": [
    "C = 36.415\n",
    "tetas = np.array(np.arange(0.001, 0.5, 0.001))\n",
    "W = np.array([1 - stats.chi2.cdf(3.684/(d), 24) for d in tetas])\n",
    "\n",
    "plt.title('График мощности критерия', fontsize=15,  fontweight='bold')\n",
    "plt.xlabel(r'$θ_2^2$')\n",
    "plt.ylabel(r'$W$')\n",
    "plt.plot(tetas, W, color = 'tab:cyan')\n",
    "plt.scatter(0.1, α, color = 'r')\n",
    "plt.grid(True)"
   ]
  },
  {
   "cell_type": "markdown",
   "id": "dcd985d3",
   "metadata": {},
   "source": [
    "## T13"
   ]
  },
  {
   "cell_type": "markdown",
   "id": "e6a5a273",
   "metadata": {},
   "source": [
    "Выборки:"
   ]
  },
  {
   "cell_type": "code",
   "execution_count": 352,
   "id": "e1fa95ad",
   "metadata": {},
   "outputs": [],
   "source": [
    "X_n = [-1.11, -6.10, 2.42]\n",
    "Y_m = [-2.29, -2.91]\n",
    "σ2_x = 2\n",
    "σ2_y = 1\n",
    "n = 3\n",
    "m = 2"
   ]
  },
  {
   "cell_type": "code",
   "execution_count": 353,
   "id": "ec41bea1",
   "metadata": {},
   "outputs": [
    {
     "name": "stdout",
     "output_type": "stream",
     "text": [
      "x_mean = -1.597, y_mean = -2.6\n"
     ]
    }
   ],
   "source": [
    "x_mean = np.mean(X_n)\n",
    "y_mean = np.mean(Y_m)\n",
    "print(f'x_mean = {round(x_mean, 3)}, y_mean = {round(y_mean, 3)}')"
   ]
  },
  {
   "cell_type": "markdown",
   "id": "7e87c11c",
   "metadata": {},
   "source": [
    "$$\n",
    "\\begin{align}\n",
    "\\Delta = \\frac{<x>-<y>}{\\sqrt{\\frac{σ_x^2}{n} + \\frac{σ_y^2}{m}}}\\\\\n",
    "\\ \\\\\n",
    "\\Delta \\backsim N(0,1)\n",
    "\\end{align}\n",
    "$$"
   ]
  },
  {
   "cell_type": "code",
   "execution_count": 354,
   "id": "0387c581",
   "metadata": {},
   "outputs": [
    {
     "name": "stdout",
     "output_type": "stream",
     "text": [
      "delta =  0.9289061667717935\n"
     ]
    }
   ],
   "source": [
    "delta = (x_mean - y_mean)/ sqrt((σ2_x)/(n) + (σ2_y)/(m))\n",
    "print(\"delta = \", delta)"
   ]
  },
  {
   "cell_type": "markdown",
   "id": "2a73d491",
   "metadata": {},
   "source": [
    "1.  $a \\ne b$"
   ]
  },
  {
   "cell_type": "code",
   "execution_count": 355,
   "id": "94b00544",
   "metadata": {
    "scrolled": true
   },
   "outputs": [
    {
     "name": "stdout",
     "output_type": "stream",
     "text": [
      "p_value =  0.35294 > α = 0.05\n",
      "Нет оснований отвергнуть гипотезу H0\n"
     ]
    }
   ],
   "source": [
    "p_value = 2*(1 - stats.norm.cdf(delta, 0, 1))\n",
    "print(f'p_value =  {round(p_value, 5)} > α = 0.05')\n",
    "print(f'Нет оснований отвергнуть гипотезу H0')"
   ]
  },
  {
   "cell_type": "markdown",
   "id": "e8f3b163",
   "metadata": {},
   "source": [
    "2.  $a < b$"
   ]
  },
  {
   "cell_type": "code",
   "execution_count": 356,
   "id": "9acb1996",
   "metadata": {},
   "outputs": [
    {
     "name": "stdout",
     "output_type": "stream",
     "text": [
      "p_value =  0.17647 > α = 0.05\n",
      "Нет оснований отвергнуть гипотезу H0\n"
     ]
    }
   ],
   "source": [
    "p_value = stats.norm.cdf(-delta, 0, 1)\n",
    "print(f'p_value =  {round(p_value, 5)} > α = 0.05')\n",
    "print(f'Нет оснований отвергнуть гипотезу H0')"
   ]
  },
  {
   "cell_type": "markdown",
   "id": "53fb9e6b",
   "metadata": {},
   "source": [
    "3. $a > b$"
   ]
  },
  {
   "cell_type": "code",
   "execution_count": 357,
   "id": "dc3a1ef1",
   "metadata": {},
   "outputs": [
    {
     "name": "stdout",
     "output_type": "stream",
     "text": [
      "p_value =  0.17647 > α = 0.05\n",
      "Нет оснований отвергнуть гипотезу H0\n"
     ]
    }
   ],
   "source": [
    "p_value = 1 - stats.norm.cdf(delta, 0, 1)\n",
    "print(f'p_value =  {round(p_value, 5)} > α = 0.05')\n",
    "print(f'Нет оснований отвергнуть гипотезу H0')"
   ]
  },
  {
   "cell_type": "code",
   "execution_count": null,
   "id": "3f4852a2",
   "metadata": {},
   "outputs": [],
   "source": []
  },
  {
   "cell_type": "raw",
   "id": "6dbfef2d",
   "metadata": {},
   "source": [
    "\n",
    "\n",
    "                                       \\`-._           __\n",
    "                                        \\\\  `-..____,.'  `.\n",
    "                                         :`.         /    \\`.\n",
    "                                         :  )       :      : \\\n",
    "                                          ;'        '   ;  |  :\n",
    "                                          )..      .. .:.`.;  :\n",
    "                                         /::...  .:::...   ` ;\n",
    "                                         ; _ '    __        /:\\\n",
    "                                         `:o>   /\\o_>      ;:. `.\n",
    "                                        `-`.__ ;   __..--- /:.   \\\n",
    "                                        === \\_/   ;=====_.':.     ;\n",
    "                                         ,/'`--'...`--....        ;\n",
    "                                              ;                    ;\n",
    "                                            .'                      ;\n",
    "                                          .'                        ;\n",
    "                                        .'     ..     ,      .       ;\n",
    "                                       :       ::..  /      ;::.     |\n",
    "                                      /      `.;::.  |       ;:..    ;\n",
    "                                     :         |:.   :       ;:.    ;\n",
    "                                     :         ::     ;:..   |.    ;\n",
    "                                      :       :;      :::....|     |\n",
    "                                      /\\     ,/ \\      ;:::::;     ;\n",
    "                                    .:. \\:..|    :     ; '.--|     ;\n",
    "                                   ::.  :''  `-.,,;     ;'   ;     ;\n",
    "                                .-'. _.'\\      / `;      \\,__:      \\\n",
    "                                `---'    `----'   ;      /    \\,.,,,/\n",
    "                                                   `----`              \n"
   ]
  },
  {
   "cell_type": "code",
   "execution_count": null,
   "id": "4c9ee733",
   "metadata": {},
   "outputs": [],
   "source": []
  },
  {
   "cell_type": "code",
   "execution_count": null,
   "id": "2bfdf068",
   "metadata": {},
   "outputs": [],
   "source": []
  },
  {
   "cell_type": "code",
   "execution_count": null,
   "id": "c990c430",
   "metadata": {},
   "outputs": [],
   "source": []
  },
  {
   "cell_type": "code",
   "execution_count": null,
   "id": "3011ba25",
   "metadata": {},
   "outputs": [],
   "source": []
  },
  {
   "cell_type": "code",
   "execution_count": null,
   "id": "7148f805",
   "metadata": {},
   "outputs": [],
   "source": []
  },
  {
   "cell_type": "code",
   "execution_count": null,
   "id": "7af297f8",
   "metadata": {},
   "outputs": [],
   "source": []
  },
  {
   "cell_type": "code",
   "execution_count": null,
   "id": "39a47d57",
   "metadata": {},
   "outputs": [],
   "source": []
  },
  {
   "cell_type": "code",
   "execution_count": null,
   "id": "55316be2",
   "metadata": {},
   "outputs": [],
   "source": []
  },
  {
   "cell_type": "code",
   "execution_count": null,
   "id": "f1985778",
   "metadata": {},
   "outputs": [],
   "source": []
  },
  {
   "cell_type": "code",
   "execution_count": null,
   "id": "12e173ca",
   "metadata": {},
   "outputs": [],
   "source": []
  },
  {
   "cell_type": "code",
   "execution_count": null,
   "id": "29b34d4f",
   "metadata": {},
   "outputs": [],
   "source": []
  }
 ],
 "metadata": {
  "kernelspec": {
   "display_name": "Python 3 (ipykernel)",
   "language": "python",
   "name": "python3"
  },
  "language_info": {
   "codemirror_mode": {
    "name": "ipython",
    "version": 3
   },
   "file_extension": ".py",
   "mimetype": "text/x-python",
   "name": "python",
   "nbconvert_exporter": "python",
   "pygments_lexer": "ipython3",
   "version": "3.10.12"
  }
 },
 "nbformat": 4,
 "nbformat_minor": 5
}
