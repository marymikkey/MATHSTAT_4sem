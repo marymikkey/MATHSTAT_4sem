{
 "cells": [
  {
   "cell_type": "markdown",
   "metadata": {
    "id": "ZCPY4J8hEgRL"
   },
   "source": [
    "## Микишева Мария Б03-212 Задание Т5"
   ]
  },
  {
   "cell_type": "code",
   "execution_count": 70,
   "metadata": {
    "id": "t09rM5oVEgRM"
   },
   "outputs": [],
   "source": [
    "import matplotlib.pyplot as plt\n",
    "import scipy.stats as st\n",
    "import scipy as sp\n",
    "import random as rd\n",
    "import numpy as np"
   ]
  },
  {
   "cell_type": "code",
   "execution_count": 85,
   "metadata": {
    "id": "NC-pnWScEgRN"
   },
   "outputs": [],
   "source": [
    "N = 100\n",
    "THETA = 3\n",
    "BETA = 0.95"
   ]
  },
  {
   "cell_type": "markdown",
   "metadata": {
    "id": "Zj31KQJuEgRN"
   },
   "source": [
    "# Генерация выборки"
   ]
  },
  {
   "cell_type": "code",
   "execution_count": 86,
   "metadata": {
    "id": "dxhzBuYVEgRN"
   },
   "outputs": [],
   "source": [
    "def generate_pareto_sample(theta, size):\n",
    "\n",
    "    return st.pareto.rvs(b=(theta-1), size=size)"
   ]
  },
  {
   "cell_type": "code",
   "execution_count": 87,
   "metadata": {
    "colab": {
     "base_uri": "https://localhost:8080/"
    },
    "id": "3eu1foxLEgRN",
    "outputId": "e68d3098-3ad4-44b3-c983-2ecd9d70a8db"
   },
   "outputs": [
    {
     "name": "stdout",
     "output_type": "stream",
     "text": [
      "sample = [ 1.10725378  1.13383341  4.08164212  2.54414729  2.21536608  1.15651919\n",
      "  2.38923844  1.1001367   1.15941695  1.01133849  1.33476505  1.20030521\n",
      "  1.21852903  2.215211    1.9063681   4.6076318   1.0379837   1.06956704\n",
      "  2.22596389  1.02536962  1.03773751  1.45748824  1.16219687  2.30259133\n",
      "  1.11983922  1.10550093  1.54255337  1.22181012  2.32037517  1.77174312\n",
      "  1.0582987   1.55154213  1.02384341  1.51870894  1.47090559  1.67595941\n",
      "  1.91738815  2.60550481  2.4698649   1.11548039  1.93888147  1.06060981\n",
      "  5.45014265  1.27592575  1.04766646  1.12517685  2.93881617  1.33850334\n",
      "  2.21953205  1.24081882  1.10633358  1.68585817  1.30218399  1.07580891\n",
      "  3.34846061  1.65113608  2.15268028  1.04337557  1.47333037  4.24917209\n",
      "  1.04538071  1.26564633  1.63037588  1.15117033  1.45132943  4.4157167\n",
      "  1.40975829  1.7380473   1.03849731  2.22793745  1.09516726  1.17001245\n",
      "  2.31069399  1.31948018  1.20101476  1.70842994  1.20788893  1.43479938\n",
      "  2.82188273  2.65801847  1.05794962  1.30439164  1.15682994  1.11745316\n",
      "  3.01650461  1.0388418   1.85173557 10.26165736  6.77382642  1.39319016\n",
      "  1.34050821  1.21346842  1.32451651  1.35956996  1.18374514  1.84376122\n",
      "  2.46367037  1.34742402  1.38792839  1.26576258]\n"
     ]
    }
   ],
   "source": [
    "sample = generate_pareto_sample(THETA, N)\n",
    "print('sample =', sample)"
   ]
  },
  {
   "cell_type": "markdown",
   "metadata": {
    "id": "IzZDwP8BUxu6"
   },
   "source": [
    "## Оценка параметра распределения"
   ]
  },
  {
   "cell_type": "code",
   "execution_count": 88,
   "metadata": {
    "id": "ydmCTt1DUx4p"
   },
   "outputs": [],
   "source": [
    "def calc_theta(sample):\n",
    "  return np.size(sample) / np.sum(np.log(sample)) + 1"
   ]
  },
  {
   "cell_type": "markdown",
   "metadata": {
    "id": "CJQHoG3uaS9D"
   },
   "source": [
    "## Асимптотический доверительный интервал медианы"
   ]
  },
  {
   "cell_type": "code",
   "execution_count": 89,
   "metadata": {
    "id": "YLJUHQ1VaS9D"
   },
   "outputs": [],
   "source": [
    "def quantiles(beta):\n",
    "    u1 = 2**0.5 * sp.special.erfinv(-beta)\n",
    "    u2 = -u1\n",
    "    return u1, u2\n",
    "\n",
    "def asymptotic_confidence_interval_median(sample, beta):\n",
    "    n = np.size(sample)\n",
    "    theta = calc_theta(sample)\n",
    "    u1, u2 = quantiles(beta)\n",
    "    t1 = (u1 * 2**(1/(theta-1)) * np.log(2)) / ((theta-1) * n**0.5) + 2**(1/(theta-1))\n",
    "    t2 = (u2 * 2**(1/(theta-1)) * np.log(2)) / ((theta-1) * n**0.5) + 2**(1/(theta-1))\n",
    "    return t1, t2\n",
    "\n",
    "t1, t2 = asymptotic_confidence_interval_median(sample, BETA)"
   ]
  },
  {
   "cell_type": "code",
   "execution_count": 90,
   "metadata": {
    "colab": {
     "base_uri": "https://localhost:8080/"
    },
    "id": "D-Fkf9PwaS9E",
    "outputId": "3487439d-dcfe-4838-de84-9188fdbc8689"
   },
   "outputs": [
    {
     "name": "stdout",
     "output_type": "stream",
     "text": [
      "Доверительный интервал: 1.3 < theta < 1.48\n",
      "Длина точного доверительного интервала: 0.17948806750034274\n"
     ]
    }
   ],
   "source": [
    "print(f'Доверительный интервал: {round(t1, 3)} < theta < {round(t2, 3)}')\n",
    "print(f'Длина точного доверительного интервала: {t2-t1}')"
   ]
  },
  {
   "cell_type": "code",
   "execution_count": 91,
   "metadata": {
    "colab": {
     "base_uri": "https://localhost:8080/",
     "height": 430
    },
    "id": "OUtbZolnQjrX",
    "outputId": "9d7aa883-1487-4e65-9cb4-609ee2058bb3"
   },
   "outputs": [
    {
     "data": {
      "image/png": "[encoded data removed]",
      "text/plain": [
       "<Figure size 640x480 with 1 Axes>"
      ]
     },
     "metadata": {},
     "output_type": "display_data"
    }
   ],
   "source": [
    "k = 1 + int(round(np.log2(len(sample))))\n",
    "plt.hist(sample, density=True, bins=k, histtype=\"step\")\n",
    "plt.plot([t1, t1], [0, 1.2], color=\"red\", label='Асимптотический доверительный интервал медианы')\n",
    "plt.plot([t2, t2], [0, 1.2], color=\"red\")\n",
    "plt.legend(loc=1, fontsize='small', fancybox=True);"
   ]
  },
  {
   "cell_type": "markdown",
   "metadata": {
    "id": "DVserujhaS9E"
   },
   "source": [
    "## Асимптотический доверительный интервал (ОМП)"
   ]
  },
  {
   "cell_type": "code",
   "execution_count": 99,
   "metadata": {
    "id": "70WxG6AtaS9E"
   },
   "outputs": [],
   "source": [
    "def asymptotic_confidence_interval(sample, beta):\n",
    "    n = np.size(sample)\n",
    "    theta = calc_theta(sample)\n",
    "    u1, u2 = quantiles(beta)\n",
    "\n",
    "    t1 = u1 * (theta-1)/n**0.5 + theta\n",
    "    t2 = u2 * (theta-1)/n**0.5 + theta\n",
    "    return t1, t2\n",
    "\n",
    "t1, t2 = asymptotic_confidence_interval(sample, BETA)"
   ]
  },
  {
   "cell_type": "code",
   "execution_count": 100,
   "metadata": {
    "colab": {
     "base_uri": "https://localhost:8080/"
    },
    "id": "amUWKhKdaS9E",
    "outputId": "696feb6c-e4f0-4e50-9b51-0f3f14675349"
   },
   "outputs": [
    {
     "name": "stdout",
     "output_type": "stream",
     "text": [
      "Асимптотический довертельный интервал: 2.692 < theta < 3.517\n",
      "Длина асимптотического доверительного интервала: 0.8248918827598146\n"
     ]
    }
   ],
   "source": [
    "print(f'Асимптотический довертельный интервал: {round(t1, 3)} < theta < {round(t2, 3)}')\n",
    "print(f'Длина асимптотического доверительного интервала: {t2-t1}')"
   ]
  },
  {
   "cell_type": "markdown",
   "metadata": {
    "id": "e6kAh_tkaS9E"
   },
   "source": [
    "## Бутстраповский непараметрический доверительный интервал"
   ]
  },
  {
   "cell_type": "code",
   "execution_count": 94,
   "metadata": {
    "id": "xFh2g2FOaS9F"
   },
   "outputs": [],
   "source": [
    "def bootstrap_confidence_interval(sample, beta):\n",
    "    theta = calc_theta(sample)\n",
    "    deltas = []\n",
    "    for i in range(1000):\n",
    "        sample_i = np.random.choice(sample, size=np.size(sample))\n",
    "        deltas.append(calc_theta(sample_i) - theta)\n",
    "    deltas = np.sort(deltas)\n",
    "    k1 = int((1+beta)/2 * 1000)\n",
    "    k2 = int((1-beta)/2 * 1000)\n",
    "    t1 = theta - deltas[k1]\n",
    "    t2 = theta - deltas[k2]\n",
    "    return t1, t2\n",
    "\n",
    "t1, t2 = bootstrap_confidence_interval(sample, BETA)"
   ]
  },
  {
   "cell_type": "code",
   "execution_count": 95,
   "metadata": {
    "colab": {
     "base_uri": "https://localhost:8080/"
    },
    "id": "UwGPLhaGaS9F",
    "outputId": "e3d2792b-abc3-430a-9285-c59c6292a6a0"
   },
   "outputs": [
    {
     "name": "stdout",
     "output_type": "stream",
     "text": [
      "Бутстраповский доверительный интервал 2.636 < theta < 3.464\n",
      "Длина бутстраповского доверительного интервала: 0.8276512737834789\n"
     ]
    }
   ],
   "source": [
    "print(f'Бутстраповский доверительный интервал {round(t1, 3)} < theta < {round(t2, 3)}')\n",
    "print(f'Длина бутстраповского доверительного интервала: {t2-t1}')"
   ]
  },
  {
   "cell_type": "markdown",
   "metadata": {
    "id": "DlOVuk4daS9F"
   },
   "source": [
    "## Бутстраповский параметрический доверительный интервал"
   ]
  },
  {
   "cell_type": "code",
   "execution_count": 96,
   "metadata": {
    "id": "cJEu8bhlaS9F"
   },
   "outputs": [],
   "source": [
    "def bootstrap_param_confidence_interval(sample, beta):\n",
    "    theta = calc_theta(sample)\n",
    "    thetas = []\n",
    "    for i in range(1000):\n",
    "        sample_i = np.random.choice(sample, size=np.size(sample))\n",
    "        thetas.append(calc_theta(sample_i))\n",
    "    k1 = int((1-beta)/2 * 1000)\n",
    "    k2 = int((1+beta)/2 * 1000)\n",
    "    thetas = np.sort(thetas)\n",
    "    t1 = thetas[k1]\n",
    "    t2 = thetas[k2]\n",
    "    return t1, t2\n",
    "\n",
    "t1, t2 = bootstrap_param_confidence_interval(sample, BETA)"
   ]
  },
  {
   "cell_type": "code",
   "execution_count": 97,
   "metadata": {
    "colab": {
     "base_uri": "https://localhost:8080/"
    },
    "id": "2wfJ6suSaS9F",
    "outputId": "53f48375-83a5-4041-aeef-d3fa832753bd"
   },
   "outputs": [
    {
     "name": "stdout",
     "output_type": "stream",
     "text": [
      "Бутстраповский параметрический доверительный интервал 2.75 < theta < 3.557\n",
      "Длина бутстраповского параметрического доверительного интервала: 0.807085897527652\n"
     ]
    }
   ],
   "source": [
    "print(f'Бутстраповский параметрический доверительный интервал {round(t1, 3)} < theta < {round(t2, 3)}')\n",
    "print(f'Длина бутстраповского параметрического доверительного интервала: {t2-t1}')"
   ]
  },
  {
   "cell_type": "markdown",
   "metadata": {
    "id": "7l-AF4xdaS9F"
   },
   "source": [
    "## Сранение"
   ]
  },
  {
   "cell_type": "code",
   "execution_count": 98,
   "metadata": {
    "colab": {
     "base_uri": "https://localhost:8080/",
     "height": 452
    },
    "id": "BijJaPIWaS9F",
    "outputId": "4752fa02-7efc-425f-cdec-bac3bff0f0dd"
   },
   "outputs": [
    {
     "data": {
      "image/png": "[encoded data removed]",
      "text/plain": [
       "<Figure size 640x480 with 1 Axes>"
      ]
     },
     "metadata": {},
     "output_type": "display_data"
    }
   ],
   "source": [
    "import matplotlib.pyplot as plt\n",
    "\n",
    "def plot_confidence_interval(num, sample, beta, eval_func, color='#2187bb', vertical_line_width=0.25):\n",
    "    t1, t2 = eval_func(sample, beta)\n",
    "    plt.plot([t1, t2], [num, num], color=color)\n",
    "    plt.plot([t1, t1], [num-vertical_line_width/2, num+vertical_line_width/2], color=color)\n",
    "    plt.plot([t2, t2], [num-vertical_line_width/2, num+vertical_line_width/2], color=color)\n",
    "    return\n",
    "\n",
    "plt.yticks([1, 2, 3], ['Асимптотический', 'Бутстраповский непараметрический', 'Бутстраповский параметрический'])\n",
    "plt.title('Confidence Interval')\n",
    "plt.plot([THETA, THETA], [0.5, 3.5], color='red')\n",
    "plot_confidence_interval(1, sample, BETA, asymptotic_confidence_interval)\n",
    "plot_confidence_interval(2, sample, BETA, bootstrap_confidence_interval)\n",
    "plot_confidence_interval(3, sample, BETA, bootstrap_param_confidence_interval)\n",
    "plt.grid()\n",
    "plt.show()"
   ]
  },
  {
   "cell_type": "code",
   "execution_count": null,
   "metadata": {
    "id": "oCI_oKwWXNHc"
   },
   "outputs": [],
   "source": []
  }
 ],
 "metadata": {
  "colab": {
   "provenance": []
  },
  "kernelspec": {
   "display_name": "Python 3 (ipykernel)",
   "language": "python",
   "name": "python3"
  },
  "language_info": {
   "codemirror_mode": {
    "name": "ipython",
    "version": 3
   },
   "file_extension": ".py",
   "mimetype": "text/x-python",
   "name": "python",
   "nbconvert_exporter": "python",
   "pygments_lexer": "ipython3",
   "version": "3.10.12"
  }
 },
 "nbformat": 4,
 "nbformat_minor": 1
}
